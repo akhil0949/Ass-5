{
 "cells": [
  {
   "cell_type": "code",
   "execution_count": null,
   "id": "def92f2c",
   "metadata": {},
   "outputs": [],
   "source": [
    "1. What does an empty dictionarys code look like?\n",
    "Ans)\n",
    "Set"
   ]
  },
  {
   "cell_type": "code",
   "execution_count": null,
   "id": "47282e3f",
   "metadata": {},
   "outputs": [],
   "source": [
    "2. What is the value of a dictionary value with the key 'foo' and the value 42?\n",
    "Ans)\n",
    "{'foo':42}\n",
    "dict_values([42])"
   ]
  },
  {
   "cell_type": "code",
   "execution_count": null,
   "id": "a82fc3e2",
   "metadata": {},
   "outputs": [],
   "source": [
    "3. What is the most significant distinction between a dictionary and a list?\n",
    "Ans)\n",
    "dictionary has key and value pair,\n",
    "list has only values."
   ]
  },
  {
   "cell_type": "code",
   "execution_count": null,
   "id": "8e61d394",
   "metadata": {},
   "outputs": [],
   "source": [
    "4. What happens if you try to access spam ['foo'] if spam is {'bar':100}\n",
    "Ans)\n",
    "KeyError"
   ]
  },
  {
   "cell_type": "code",
   "execution_count": null,
   "id": "6fd9d2db",
   "metadata": {},
   "outputs": [],
   "source": [
    "5. If a dictionary is stored in spam, what is the difference between the expressions 'cat' in spam and\n",
    "'cat' in spam.keys()?\n",
    "Ans) \n",
    "spam = {'cat':100}\n",
    "'cat' is a key in spam, and also key in spam.keys()"
   ]
  },
  {
   "cell_type": "code",
   "execution_count": null,
   "id": "f002a43c",
   "metadata": {},
   "outputs": [],
   "source": [
    "6. If a dictionary is stored in spam, what is the difference between the expressions 'cat' in spam and 'cat' in spam.values()?\n",
    "Ans)\n",
    "'cat' is a key in spam, and 'cat' in spam.values() gives the value of the key('cat')."
   ]
  },
  {
   "cell_type": "code",
   "execution_count": null,
   "id": "b72a1122",
   "metadata": {},
   "outputs": [],
   "source": [
    "7. What is a shortcut for the following code?\n",
    "if 'color' not in spam:\n",
    "spam['color'] = 'black'\n",
    "Ans)\n",
    "spam['color'] = 'black' is false"
   ]
  },
  {
   "cell_type": "code",
   "execution_count": null,
   "id": "aaee4fc6",
   "metadata": {},
   "outputs": [],
   "source": [
    "8. How do you \"pretty print\" dictionary values using which module and function?\n",
    "Ans)\n",
    "dict.values()"
   ]
  }
 ],
 "metadata": {
  "kernelspec": {
   "display_name": "Python 3",
   "language": "python",
   "name": "python3"
  },
  "language_info": {
   "codemirror_mode": {
    "name": "ipython",
    "version": 3
   },
   "file_extension": ".py",
   "mimetype": "text/x-python",
   "name": "python",
   "nbconvert_exporter": "python",
   "pygments_lexer": "ipython3",
   "version": "3.6.13"
  }
 },
 "nbformat": 4,
 "nbformat_minor": 5
}
